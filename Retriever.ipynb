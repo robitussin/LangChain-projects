{
 "cells": [
  {
   "cell_type": "code",
   "execution_count": 18,
   "metadata": {},
   "outputs": [],
   "source": [
    "from langchain.chains import RetrievalQA\n",
    "from langchain_openai import ChatOpenAI, OpenAIEmbeddings\n",
    "from langchain_community.graphs import Neo4jGraph\n",
    "from langchain_community.vectorstores import Neo4jVector\n",
    "import os"
   ]
  },
  {
   "cell_type": "code",
   "execution_count": 19,
   "metadata": {},
   "outputs": [],
   "source": [
    "os.environ[\"OPENAI_API_KEY\"] = os.getenv(\"OPENAI_API_KEY\")\n",
    "llm = ChatOpenAI(openai_api_key=os.environ[\"OPENAI_API_KEY\"] )\n",
    "embedding_provider = OpenAIEmbeddings(openai_api_key=os.environ[\"OPENAI_API_KEY\"])"
   ]
  },
  {
   "cell_type": "code",
   "execution_count": 20,
   "metadata": {},
   "outputs": [],
   "source": [
    "graph = Neo4jGraph(\n",
    "    url=\"bolt://localhost:7687\",\n",
    "    username=\"neo4j\",\n",
    "    password=\"12345678\"\n",
    ")"
   ]
  },
  {
   "cell_type": "code",
   "execution_count": 21,
   "metadata": {},
   "outputs": [
    {
     "name": "stdout",
     "output_type": "stream",
     "text": [
      "{'query': 'A movie where a mission to the moon goes wrong', 'result': 'One movie that fits this description is \"Apollo 13\" (1995), which is based on the true story of the Apollo 13 lunar mission in 1970. The mission encounters a life-threatening crisis when an oxygen tank explodes, putting the lives of the astronauts in jeopardy and forcing NASA to scramble to bring them back safely to Earth.'}\n"
     ]
    }
   ],
   "source": [
    "movie_plot_vector = Neo4jVector.from_existing_index(\n",
    "    embedding_provider,\n",
    "    graph=graph,\n",
    "    index_name=\"moviePlots\",\n",
    "    embedding_node_property=\"plotEmbedding\",\n",
    "    text_node_property=\"plot\",\n",
    ")\n",
    "\n",
    "plot_retriever = RetrievalQA.from_llm(\n",
    "    llm=llm,\n",
    "    retriever=movie_plot_vector.as_retriever()\n",
    ")\n",
    "\n",
    "response = plot_retriever.invoke(\n",
    "    {\"query\": \"A movie where a mission to the moon goes wrong\"}\n",
    ")\n",
    "\n",
    "print(response)"
   ]
  }
 ],
 "metadata": {
  "kernelspec": {
   "display_name": "graphmaker",
   "language": "python",
   "name": "python3"
  },
  "language_info": {
   "codemirror_mode": {
    "name": "ipython",
    "version": 3
   },
   "file_extension": ".py",
   "mimetype": "text/x-python",
   "name": "python",
   "nbconvert_exporter": "python",
   "pygments_lexer": "ipython3",
   "version": "3.11.0"
  }
 },
 "nbformat": 4,
 "nbformat_minor": 2
}
